{
 "cells": [
  {
   "cell_type": "code",
   "execution_count": 1,
   "metadata": {},
   "outputs": [
    {
     "name": "stderr",
     "output_type": "stream",
     "text": [
      "Using TensorFlow backend.\n",
      "/Users/cody/.virtualenvs/lau_lab/lib/python3.6/site-packages/kopt/config.py:60: YAMLLoadWarning: \n",
      "  *** Calling yaml.load() without Loader=... is deprecated.\n",
      "  *** The default Loader is unsafe.\n",
      "  *** Please read https://msg.pyyaml.org/load for full details.\n",
      "  _config = yaml.load(open(_config_path))\n"
     ]
    }
   ],
   "source": [
    "from fcc_DRs import *\n",
    "%matplotlib inline"
   ]
  },
  {
   "cell_type": "code",
   "execution_count": 2,
   "metadata": {},
   "outputs": [],
   "source": [
    "retina = RNA_counts.from_file('inputs/GSM1626793_P14Retina_1.processed.tsv')"
   ]
  },
  {
   "cell_type": "code",
   "execution_count": 3,
   "metadata": {},
   "outputs": [],
   "source": [
    "retina_tSNE = DR.from_file(datafile='dev/pymethods_out/retina_clu_tSNE.csv', labels=[None,None], name='t-SNE', barcodefile='inputs/retina_clu_seurat.csv')"
   ]
  },
  {
   "cell_type": "code",
   "execution_count": 23,
   "metadata": {},
   "outputs": [],
   "source": [
    "colon = RNA_counts.from_file('inputs/GSM2743164_rep1_colon_rnaseq.processed.tsv', barcodefile='inputs/colon_clu_seurat.csv')"
   ]
  },
  {
   "cell_type": "markdown",
   "metadata": {},
   "source": [
    "---\n",
    "DR methods with ground-truth clusters"
   ]
  },
  {
   "cell_type": "code",
   "execution_count": 9,
   "metadata": {},
   "outputs": [],
   "source": [
    "retina_PCA2 = fcc_PCA(retina.arcsinh_norm(), barcodes=retina_tSNE.barcodes, n_components=2)"
   ]
  },
  {
   "cell_type": "code",
   "execution_count": 10,
   "metadata": {},
   "outputs": [],
   "source": [
    "retina_PCA2.plot_barcodes(figsize=(6,6), save_to='images/retina_PCA2_barcodes.png')"
   ]
  },
  {
   "cell_type": "code",
   "execution_count": 11,
   "metadata": {},
   "outputs": [],
   "source": [
    "retina_DCA = DR.from_file('dev/pymethods_out/retina_DCA_tSNE.csv', name='(DCA) t-SNE', labels=[None,None], barcodefile='inputs/retina_clu_seurat.csv')\n",
    "retina_DCA.plot_barcodes(figsize=(6,6), save_to='images/retina_DCA_barcodes.png')"
   ]
  },
  {
   "cell_type": "code",
   "execution_count": 12,
   "metadata": {},
   "outputs": [],
   "source": [
    "retina_scVI = DR.from_file('dev/pymethods_out/retina_scVI_tSNE.csv', name='(scVI) t-SNE', labels=[None,None], barcodefile='inputs/retina_clu_seurat.csv')\n",
    "retina_scVI.plot_barcodes(figsize=(6,6), save_to='images/retina_scVI_barcodes.png')"
   ]
  },
  {
   "cell_type": "code",
   "execution_count": 13,
   "metadata": {},
   "outputs": [],
   "source": [
    "retina_tSNE = DR.from_file('dev/pymethods_out/retina_tSNE.csv.gz', name='t-SNE', labels=[None,None], barcodefile='inputs/retina_clu_seurat.csv')\n",
    "retina_tSNE.plot_barcodes(figsize=(6,6), save_to='images/retina_tSNE_barcodes.png')"
   ]
  },
  {
   "cell_type": "code",
   "execution_count": 14,
   "metadata": {},
   "outputs": [],
   "source": [
    "retina_UMAP = DR.from_file('dev/pymethods_out/retina_UMAP.csv.gz', name='UMAP', labels=[None,None], barcodefile='inputs/retina_clu_seurat.csv')\n",
    "retina_UMAP.plot_barcodes(figsize=(6,6), save_to='images/retina_UMAP_barcodes.png')"
   ]
  },
  {
   "cell_type": "code",
   "execution_count": 15,
   "metadata": {},
   "outputs": [],
   "source": [
    "retina_ZIFA = DR.from_file('dev/pymethods_out/retina_ZIFA.csv.gz', name='ZIFA', labels=[None,None], barcodefile='inputs/retina_clu_seurat.csv')\n",
    "retina_ZIFA.plot_barcodes(figsize=(6,6), save_to='images/retina_ZIFA_barcodes.png')"
   ]
  },
  {
   "cell_type": "code",
   "execution_count": 18,
   "metadata": {},
   "outputs": [],
   "source": [
    "retina_scvis = DR.from_file('dev/scvis_out/retina/perplexity_30_regularizer_0.001_batch_size_512_learning_rate_0.01_latent_dimension_2_activation_ELU_seed_1_iter_3000.tsv', labels=[None,0], name='scvis', barcodefile='inputs/retina_clu_seurat.csv')\n",
    "retina_scvis.plot_barcodes(figsize=(6,6), save_to='images/retina_scvis_barcodes.png')"
   ]
  },
  {
   "cell_type": "code",
   "execution_count": 19,
   "metadata": {},
   "outputs": [],
   "source": [
    "retina_ZINBWAVE = DR.from_file('dev/Rmethods_out/retina_ZINB-WAVE.csv.gz', labels=[None,0], name='ZINB-WaVE', barcodefile='inputs/retina_clu_seurat.csv')\n",
    "retina_ZINBWAVE.plot_barcodes(figsize=(6,6), save_to='images/retina_ZINBWAVE_barcodes.png')"
   ]
  },
  {
   "cell_type": "code",
   "execution_count": 20,
   "metadata": {},
   "outputs": [],
   "source": [
    "retina_SIMLR = DR.from_file('dev/Rmethods_out/retina_SIMLR_ydata.csv.gz', labels=[None,0], name='SIMLR', barcodefile='inputs/retina_clu_seurat.csv')\n",
    "retina_SIMLR.plot_barcodes(figsize=(6,6), save_to='images/retina_SIMLR_barcodes.png')"
   ]
  },
  {
   "cell_type": "code",
   "execution_count": 21,
   "metadata": {},
   "outputs": [],
   "source": [
    "retina_GLMPCA = DR.from_file('dev/Rmethods_out/retina_GLM-PCA.csv.gz', labels=[None,0], name='GLM-PC', barcodefile='inputs/retina_clu_seurat.csv')\n",
    "retina_GLMPCA.plot_barcodes(figsize=(6,6), save_to='images/retina_GLMPCA_barcodes.png')"
   ]
  },
  {
   "cell_type": "markdown",
   "metadata": {},
   "source": [
    "---"
   ]
  },
  {
   "cell_type": "code",
   "execution_count": 24,
   "metadata": {},
   "outputs": [],
   "source": [
    "colon_PCA2 = fcc_PCA(colon.arcsinh_norm(), barcodes=colon.barcodes, n_components=2)"
   ]
  },
  {
   "cell_type": "code",
   "execution_count": 25,
   "metadata": {},
   "outputs": [],
   "source": [
    "colon_PCA2.plot_barcodes(figsize=(6,6), save_to='images/colon_PCA2_barcodes.png')"
   ]
  },
  {
   "cell_type": "code",
   "execution_count": 26,
   "metadata": {},
   "outputs": [],
   "source": [
    "colon_DCA = DR.from_file('dev/pymethods_out/colon_DCA_tSNE.csv', name='(DCA) t-SNE', labels=[None,None], barcodefile='inputs/colon_clu_seurat.csv')\n",
    "colon_DCA.plot_barcodes(figsize=(6,6), save_to='images/colon_DCA_barcodes.png')"
   ]
  },
  {
   "cell_type": "code",
   "execution_count": 27,
   "metadata": {},
   "outputs": [],
   "source": [
    "colon_scVI = DR.from_file('dev/pymethods_out/colon_scVI_tSNE.csv', name='(scVI) t-SNE', labels=[None,None], barcodefile='inputs/colon_clu_seurat.csv')\n",
    "colon_scVI.plot_barcodes(figsize=(6,6), save_to='images/colon_scVI_barcodes.png')"
   ]
  },
  {
   "cell_type": "code",
   "execution_count": 28,
   "metadata": {},
   "outputs": [],
   "source": [
    "colon_tSNE = DR.from_file('dev/pymethods_out/colon_tSNE.csv.gz', name='t-SNE', labels=[None,None], barcodefile='inputs/colon_clu_seurat.csv')\n",
    "colon_tSNE.plot_barcodes(figsize=(6,6), save_to='images/colon_tSNE_barcodes.png')"
   ]
  },
  {
   "cell_type": "code",
   "execution_count": 29,
   "metadata": {},
   "outputs": [],
   "source": [
    "colon_UMAP = DR.from_file('dev/pymethods_out/colon_UMAP.csv.gz', name='UMAP', labels=[None,None], barcodefile='inputs/colon_clu_seurat.csv')\n",
    "colon_UMAP.plot_barcodes(figsize=(6,6), save_to='images/colon_UMAP_barcodes.png')"
   ]
  },
  {
   "cell_type": "code",
   "execution_count": 30,
   "metadata": {},
   "outputs": [],
   "source": [
    "colon_ZIFA = DR.from_file('dev/pymethods_out/colon_ZIFA.csv.gz', name='ZIFA', labels=[None,None], barcodefile='inputs/colon_clu_seurat.csv')\n",
    "colon_ZIFA.plot_barcodes(figsize=(6,6), save_to='images/colon_ZIFA_barcodes.png')"
   ]
  },
  {
   "cell_type": "code",
   "execution_count": 32,
   "metadata": {},
   "outputs": [],
   "source": [
    "colon_scvis = DR.from_file('dev/scvis_out/colon/perplexity_30_regularizer_0.001_batch_size_512_learning_rate_0.01_latent_dimension_2_activation_ELU_seed_1_iter_3000.tsv', labels=[None,0], name='scvis', barcodefile='inputs/colon_clu_seurat.csv')\n",
    "colon_scvis.plot_barcodes(figsize=(6,6), save_to='images/colon_scvis_barcodes.png')"
   ]
  },
  {
   "cell_type": "code",
   "execution_count": 33,
   "metadata": {},
   "outputs": [],
   "source": [
    "colon_ZINBWAVE = DR.from_file('dev/Rmethods_out/colon_ZINB-WAVE.csv.gz', labels=[None,0], name='ZINB-WaVE', barcodefile='inputs/colon_clu_seurat.csv')\n",
    "colon_ZINBWAVE.plot_barcodes(figsize=(6,6), save_to='images/colon_ZINBWAVE_barcodes.png')"
   ]
  },
  {
   "cell_type": "code",
   "execution_count": 34,
   "metadata": {},
   "outputs": [],
   "source": [
    "colon_SIMLR = DR.from_file('dev/Rmethods_out/colon_SIMLR_ydata.csv.gz', labels=[None,0], name='SIMLR', barcodefile='inputs/colon_clu_seurat.csv')\n",
    "colon_SIMLR.plot_barcodes(figsize=(6,6), save_to='images/colon_SIMLR_barcodes.png')"
   ]
  },
  {
   "cell_type": "code",
   "execution_count": 35,
   "metadata": {},
   "outputs": [],
   "source": [
    "colon_GLMPCA = DR.from_file('dev/Rmethods_out/colon_GLM-PCA.csv.gz', labels=[None,0], name='GLM-PC', barcodefile='inputs/colon_clu_seurat.csv')\n",
    "colon_GLMPCA.plot_barcodes(figsize=(6,6), save_to='images/colon_GLMPCA_barcodes.png')"
   ]
  }
 ],
 "metadata": {
  "kernelspec": {
   "display_name": "Python 3",
   "language": "python",
   "name": "python3"
  },
  "language_info": {
   "codemirror_mode": {
    "name": "ipython",
    "version": 3
   },
   "file_extension": ".py",
   "mimetype": "text/x-python",
   "name": "python",
   "nbconvert_exporter": "python",
   "pygments_lexer": "ipython3",
   "version": "3.6.5"
  }
 },
 "nbformat": 4,
 "nbformat_minor": 2
}
