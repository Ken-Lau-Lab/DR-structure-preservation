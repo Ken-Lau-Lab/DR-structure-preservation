{
 "cells": [
  {
   "cell_type": "code",
   "execution_count": 1,
   "metadata": {},
   "outputs": [],
   "source": [
    "import h5py #package for reading, I think pandas also has something for reading hdf5 but I've found this one to be the most convenient"
   ]
  },
  {
   "cell_type": "code",
   "execution_count": 2,
   "metadata": {},
   "outputs": [],
   "source": [
    "hdf5in=h5py.File(\"GSE102698ClosenessRep_0.hdf5\",\"r\") #load the hdf5 file into an object"
   ]
  },
  {
   "cell_type": "code",
   "execution_count": 3,
   "metadata": {},
   "outputs": [
    {
     "data": {
      "text/plain": [
       "['Close_0.00',\n",
       " 'Close_0.25',\n",
       " 'Close_0.50',\n",
       " 'Close_0.75',\n",
       " 'Close_1.00',\n",
       " 'Close_1.25',\n",
       " 'Close_1.50',\n",
       " 'Close_1.75']"
      ]
     },
     "execution_count": 3,
     "metadata": {},
     "output_type": "execute_result"
    }
   ],
   "source": [
    "list(hdf5in.keys()) #the keys represent the different datsets contained within the hdf5 file"
   ]
  },
  {
   "cell_type": "code",
   "execution_count": 4,
   "metadata": {},
   "outputs": [
    {
     "data": {
      "text/plain": [
       "array([[ 0.,  0.,  0., ...,  1.,  6.,  0.],\n",
       "       [ 0.,  0.,  0., ...,  1.,  9.,  0.],\n",
       "       [ 0.,  1.,  0., ...,  1.,  3.,  0.],\n",
       "       ...,\n",
       "       [ 0.,  0.,  0., ...,  0.,  1.,  0.],\n",
       "       [ 0.,  1.,  0., ...,  7., 25.,  0.],\n",
       "       [ 0.,  0.,  0., ...,  4., 30.,  0.]])"
      ]
     },
     "execution_count": 4,
     "metadata": {},
     "output_type": "execute_result"
    }
   ],
   "source": [
    "hdf5in['Close_0.00'].value #access the count data "
   ]
  },
  {
   "cell_type": "code",
   "execution_count": 5,
   "metadata": {},
   "outputs": [],
   "source": [
    "hdf5in.close() #need to close the file, in the case of writing hdf5 files this writes them to the disk"
   ]
  },
  {
   "cell_type": "code",
   "execution_count": null,
   "metadata": {},
   "outputs": [],
   "source": []
  }
 ],
 "metadata": {
  "kernelspec": {
   "display_name": "Python 3",
   "language": "python",
   "name": "python3"
  },
  "language_info": {
   "codemirror_mode": {
    "name": "ipython",
    "version": 3
   },
   "file_extension": ".py",
   "mimetype": "text/x-python",
   "name": "python",
   "nbconvert_exporter": "python",
   "pygments_lexer": "ipython3",
   "version": "3.6.5"
  }
 },
 "nbformat": 4,
 "nbformat_minor": 2
}
